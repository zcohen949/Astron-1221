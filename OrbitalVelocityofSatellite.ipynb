{
  "nbformat": 4,
  "nbformat_minor": 0,
  "metadata": {
    "colab": {
      "provenance": [],
      "authorship_tag": "ABX9TyN2vGZnws2hALTqKb1sRUvk",
      "include_colab_link": true
    },
    "kernelspec": {
      "name": "python3",
      "display_name": "Python 3"
    },
    "language_info": {
      "name": "python"
    }
  },
  "cells": [
    {
      "cell_type": "markdown",
      "metadata": {
        "id": "view-in-github",
        "colab_type": "text"
      },
      "source": [
        "<a href=\"https://colab.research.google.com/github/zcohen949/Astron-1221/blob/main/OrbitalVelocityofSatellite.ipynb\" target=\"_parent\"><img src=\"https://colab.research.google.com/assets/colab-badge.svg\" alt=\"Open In Colab\"/></a>"
      ]
    },
    {
      "cell_type": "markdown",
      "source": [],
      "metadata": {
        "id": "pxf-rAucGisT"
      }
    },
    {
      "cell_type": "markdown",
      "source": [
        "$V = \\sqrt{\\frac{GM}{R}}$"
      ],
      "metadata": {
        "id": "CZGB257HBJN2"
      }
    },
    {
      "cell_type": "code",
      "execution_count": null,
      "metadata": {
        "id": "SaUXdmok6FAC"
      },
      "outputs": [],
      "source": [
        "import astropy.constants as const # import a Python package ot call the value of certain constants.\n",
        "import astropy.units as u # import a Python package to call certain units, e.g., the mass of the Sun."
      ]
    },
    {
      "cell_type": "code",
      "source": [
        "G = const.G # Define G as the gravitational constant\n",
        "print(G.si) # pting out G in S.I unit"
      ],
      "metadata": {
        "colab": {
          "base_uri": "https://localhost:8080/"
        },
        "id": "w1yPaBC-8daU",
        "outputId": "164dabc0-03c8-4aa4-cf08-10a0979962d7"
      },
      "execution_count": null,
      "outputs": [
        {
          "output_type": "stream",
          "name": "stdout",
          "text": [
            "  Name   = Gravitational constant\n",
            "  Value  = 6.6743e-11\n",
            "  Uncertainty  = 1.5e-15\n",
            "  Unit  = m3 / (kg s2)\n",
            "  Reference = CODATA 2018\n"
          ]
        }
      ]
    },
    {
      "cell_type": "code",
      "source": [
        "import numpy as np # import numpy package which allows us to conduct mathematical operations for the defined quantities."
      ],
      "metadata": {
        "id": "10-6EloD8tuE"
      },
      "execution_count": null,
      "outputs": []
    },
    {
      "cell_type": "code",
      "source": [
        "M_earth = u.earthMass # This is the orbital radius of the satelite, which is equal to one radius of earth away from earth\n",
        "print(M_earth.to(u.kg)) # print out M in unit of kilogram."
      ],
      "metadata": {
        "id": "ve5LBrW8JpQr",
        "colab": {
          "base_uri": "https://localhost:8080/"
        },
        "outputId": "1c475559-1b4a-4145-e9e9-128f8a36d863"
      },
      "execution_count": null,
      "outputs": [
        {
          "output_type": "stream",
          "name": "stdout",
          "text": [
            "5.972167867791379e+24\n"
          ]
        }
      ]
    },
    {
      "cell_type": "code",
      "source": [
        "R_satellite = 1 * u.earthRad # This is the orbital radius of the satelite, which is equal to one radius of earth away from earth"
      ],
      "metadata": {
        "id": "Xx4Y966ZMuI0"
      },
      "execution_count": null,
      "outputs": []
    },
    {
      "cell_type": "code",
      "source": [
        "V_satellite = np.sqrt(G * M_earth / R_satellite) # Calculating orbital velocity based on the equation at the beginning.\n",
        "print(V_satellite.to(u.km/u.s)) # Print out orbital velocity of the satellite around the Sun."
      ],
      "metadata": {
        "colab": {
          "base_uri": "https://localhost:8080/"
        },
        "id": "8ePSdaD2I3M1",
        "outputId": "2561d65b-2490-4bb8-b8fd-7ab37e299164"
      },
      "execution_count": null,
      "outputs": [
        {
          "output_type": "stream",
          "name": "stdout",
          "text": [
            "7.905388234385281 km / s\n"
          ]
        }
      ]
    }
  ]
}