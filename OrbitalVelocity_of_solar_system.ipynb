{
  "nbformat": 4,
  "nbformat_minor": 0,
  "metadata": {
    "colab": {
      "provenance": [],
      "authorship_tag": "ABX9TyM8dZW2dJ2bxvvByHBm+0f4",
      "include_colab_link": true
    },
    "kernelspec": {
      "name": "python3",
      "display_name": "Python 3"
    },
    "language_info": {
      "name": "python"
    }
  },
  "cells": [
    {
      "cell_type": "markdown",
      "metadata": {
        "id": "view-in-github",
        "colab_type": "text"
      },
      "source": [
        "<a href=\"https://colab.research.google.com/github/zcohen949/Astron-1221/blob/main/OrbitalVelocity_of_solar_system.ipynb\" target=\"_parent\"><img src=\"https://colab.research.google.com/assets/colab-badge.svg\" alt=\"Open In Colab\"/></a>"
      ]
    },
    {
      "cell_type": "markdown",
      "source": [],
      "metadata": {
        "id": "pxf-rAucGisT"
      }
    },
    {
      "cell_type": "markdown",
      "source": [
        "$V = \\sqrt{\\frac{GM}{R}}$"
      ],
      "metadata": {
        "id": "CZGB257HBJN2"
      }
    },
    {
      "cell_type": "code",
      "execution_count": null,
      "metadata": {
        "id": "SaUXdmok6FAC"
      },
      "outputs": [],
      "source": [
        "import astropy.constants as const # import a Python package ot call the value of certain constants.\n",
        "import astropy.units as u # import a Python package to call certain units, e.g., the mass of the Sun."
      ]
    },
    {
      "cell_type": "code",
      "source": [
        "M = 1 * u.solMass # Define M as a physical quantity with a value and a unit.\n",
        "print(M.to(u.kg)) # print out M in unit of kilogram."
      ],
      "metadata": {
        "colab": {
          "base_uri": "https://localhost:8080/"
        },
        "id": "qbZbAE1k7jqU",
        "outputId": "15187d8e-d4fa-4c25-a8e6-f10a786f4337"
      },
      "execution_count": null,
      "outputs": [
        {
          "output_type": "stream",
          "name": "stdout",
          "text": [
            "1.988409870698051e+30 kg\n"
          ]
        }
      ]
    },
    {
      "cell_type": "code",
      "source": [
        "R=1 * u.au # Define R as the radius of the Earth's orbit around the Sun in astronomical unit\n",
        "print(R.to(u.km)) # print out the radius of the Earth's orbit."
      ],
      "metadata": {
        "colab": {
          "base_uri": "https://localhost:8080/"
        },
        "id": "9fXTXbzn7Qej",
        "outputId": "6e4c63a2-5c5e-4f93-bb8c-b0a5fe293d1d"
      },
      "execution_count": null,
      "outputs": [
        {
          "output_type": "stream",
          "name": "stdout",
          "text": [
            "149597870.7 km\n"
          ]
        }
      ]
    },
    {
      "cell_type": "code",
      "source": [
        "G = const.G # Define G as the gravitational constant\n",
        "print(G.si) # pting out G in S.I unit"
      ],
      "metadata": {
        "colab": {
          "base_uri": "https://localhost:8080/"
        },
        "id": "w1yPaBC-8daU",
        "outputId": "ca53e1b7-5110-4c59-db28-45aec0bd5429"
      },
      "execution_count": null,
      "outputs": [
        {
          "output_type": "stream",
          "name": "stdout",
          "text": [
            "  Name   = Gravitational constant\n",
            "  Value  = 6.6743e-11\n",
            "  Uncertainty  = 1.5e-15\n",
            "  Unit  = m3 / (kg s2)\n",
            "  Reference = CODATA 2018\n"
          ]
        }
      ]
    },
    {
      "cell_type": "code",
      "source": [
        "import numpy as np # import numpy package which allows us to conduct mathematical operations for the defined quantities."
      ],
      "metadata": {
        "id": "10-6EloD8tuE"
      },
      "execution_count": null,
      "outputs": []
    },
    {
      "cell_type": "code",
      "source": [
        "V = \\\n",
        "np.sqrt(G * M / R) # Calculating orbital velocity based on the equation at the beginning. # \\ symbol allows you to break long line of code\n",
        "print(V.to(u.km/u.s)) # Print out orbital velocity of the Earth around the Sun."
      ],
      "metadata": {
        "colab": {
          "base_uri": "https://localhost:8080/"
        },
        "id": "MkYq5wKW806Q",
        "outputId": "ee117c2f-224d-4cfb-e4a2-6c0e6d4c62a8"
      },
      "execution_count": null,
      "outputs": [
        {
          "output_type": "stream",
          "name": "stdout",
          "text": [
            "29.784691829676934 km / s\n"
          ]
        }
      ]
    },
    {
      "cell_type": "code",
      "source": [
        "R_jupiter = 5.2 * u.au # This is the orbital radius of Jupiter"
      ],
      "metadata": {
        "id": "8nSrt9yO_sc8"
      },
      "execution_count": null,
      "outputs": []
    },
    {
      "cell_type": "code",
      "source": [
        "V_jupiter = \\\n",
        "np.sqrt(G * M / R_jupiter) # Calculating orbital velocity based on the equation at the beginning. # \\ symbol allows you to break long line of code\n",
        "print(V_jupiter.to(u.km/u.s)) # Print out orbital velocity of Jupiter around the Sun."
      ],
      "metadata": {
        "colab": {
          "base_uri": "https://localhost:8080/"
        },
        "id": "TdBQ1i8O_1sC",
        "outputId": "38d7e6ef-d8ee-4f07-bcf7-258320a6d1b8"
      },
      "execution_count": null,
      "outputs": [
        {
          "output_type": "stream",
          "name": "stdout",
          "text": [
            "13.061451410903354 km / s\n"
          ]
        }
      ]
    },
    {
      "cell_type": "markdown",
      "source": [],
      "metadata": {
        "id": "VJ0pX1sfMSUo"
      }
    },
    {
      "cell_type": "code",
      "source": [
        "M_earth = u.earthMass # This is the orbital radius of the satelite, which is equal to one radius of earth away from earth"
      ],
      "metadata": {
        "id": "ve5LBrW8JpQr"
      },
      "execution_count": null,
      "outputs": []
    },
    {
      "cell_type": "code",
      "source": [
        "R_satellite = 1 * u.earthRad # This is the orbital radius of the satelite, which is equal to one radius of earth away from earth"
      ],
      "metadata": {
        "id": "Xx4Y966ZMuI0"
      },
      "execution_count": null,
      "outputs": []
    },
    {
      "cell_type": "code",
      "source": [
        "V_satellite = np.sqrt(G * M_earth / R_satellite) # Calculating orbital velocity based on the equation at the beginning.\n",
        "print(V_satellite.to(u.km/u.s)) # Print out orbital velocity of the satellite around the Sun."
      ],
      "metadata": {
        "colab": {
          "base_uri": "https://localhost:8080/"
        },
        "id": "8ePSdaD2I3M1",
        "outputId": "4a0f0966-0ce6-42a3-cfb7-f76c50510d22"
      },
      "execution_count": null,
      "outputs": [
        {
          "output_type": "stream",
          "name": "stdout",
          "text": [
            "7.905388234385281 km / s\n"
          ]
        }
      ]
    }
  ]
}