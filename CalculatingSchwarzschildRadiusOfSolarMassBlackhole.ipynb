{
  "nbformat": 4,
  "nbformat_minor": 0,
  "metadata": {
    "colab": {
      "provenance": [],
      "authorship_tag": "ABX9TyMFgQALBvqbsTkQp1FRJiMN",
      "include_colab_link": true
    },
    "kernelspec": {
      "name": "python3",
      "display_name": "Python 3"
    },
    "language_info": {
      "name": "python"
    }
  },
  "cells": [
    {
      "cell_type": "markdown",
      "metadata": {
        "id": "view-in-github",
        "colab_type": "text"
      },
      "source": [
        "<a href=\"https://colab.research.google.com/github/zcohen949/Astron-1221/blob/main/CalculatingSchwarzschildRadiusOfSolarMassBlackhole.ipynb\" target=\"_parent\"><img src=\"https://colab.research.google.com/assets/colab-badge.svg\" alt=\"Open In Colab\"/></a>"
      ]
    },
    {
      "cell_type": "code",
      "source": [
        "print(\"R = GM/(V^2)\") # this is the equation needed to find the radius of a solar mass black hole; prints equation below"
      ],
      "metadata": {
        "colab": {
          "base_uri": "https://localhost:8080/"
        },
        "id": "sW5oHbU5dtTK",
        "outputId": "f3e3e383-dd14-4f19-9a13-d3bf52346231"
      },
      "execution_count": 11,
      "outputs": [
        {
          "output_type": "stream",
          "name": "stdout",
          "text": [
            "R = GM/(V^2)\n"
          ]
        }
      ]
    },
    {
      "cell_type": "code",
      "source": [
        "import astropy.units as u # import a Python package to call certain units\n",
        "import astropy.constants as ac # import a Python package to call the value of constants\n",
        "import numpy as np # import numpy package which allows us to conduct mathematical operations for the defined quantities"
      ],
      "metadata": {
        "id": "06_LcAKHd94V"
      },
      "execution_count": 12,
      "outputs": []
    },
    {
      "cell_type": "code",
      "source": [
        "G = ac.G # Define G as the gravitational constant\n",
        "print(G.si) # prints a description of the constant G below"
      ],
      "metadata": {
        "colab": {
          "base_uri": "https://localhost:8080/"
        },
        "id": "ifzJdDiBeDH4",
        "outputId": "d0496a2a-d2c0-45d2-fbd8-4077aeb237a7"
      },
      "execution_count": 18,
      "outputs": [
        {
          "output_type": "stream",
          "name": "stdout",
          "text": [
            "  Name   = Gravitational constant\n",
            "  Value  = 6.6743e-11\n",
            "  Uncertainty  = 1.5e-15\n",
            "  Unit  = m3 / (kg s2)\n",
            "  Reference = CODATA 2018\n"
          ]
        }
      ]
    },
    {
      "cell_type": "code",
      "source": [
        "M_BlackHole = 1 * u.M_sun # sets the mass of the black hole to be equal to the mass of the sun\n",
        "print(M_BlackHole.si) # prints this value below in si"
      ],
      "metadata": {
        "colab": {
          "base_uri": "https://localhost:8080/"
        },
        "id": "DsIM9xXUewK7",
        "outputId": "38ad2bb1-a232-4379-aeff-b9fae64f0d56"
      },
      "execution_count": 19,
      "outputs": [
        {
          "output_type": "stream",
          "name": "stdout",
          "text": [
            "1.988409870698051e+30 kg\n"
          ]
        }
      ]
    },
    {
      "cell_type": "code",
      "source": [
        "V_BlackHole = 3 * 10**8 * u.m/u.s # sets the speed of the black hole equal to the speed of light\n",
        "print(V.si) # prints this value below in m/s"
      ],
      "metadata": {
        "colab": {
          "base_uri": "https://localhost:8080/"
        },
        "id": "2rDokeD3fSB1",
        "outputId": "a6015895-3930-4d62-8cfc-10ebfbb52150"
      },
      "execution_count": 24,
      "outputs": [
        {
          "output_type": "stream",
          "name": "stdout",
          "text": [
            "300000000.0 m / s\n"
          ]
        }
      ]
    },
    {
      "cell_type": "code",
      "source": [
        "R_BlackHole = (G * M_BlackHole / (V_BlackHole)**2) # calculates the radius of the black hole using previously defined units and equations\n",
        "print(R_BlackHole.si) # prints this value below in si"
      ],
      "metadata": {
        "colab": {
          "base_uri": "https://localhost:8080/"
        },
        "id": "oZ6LQdA6gZIY",
        "outputId": "499104df-fc25-488b-f317-d6026bc05cef"
      },
      "execution_count": 26,
      "outputs": [
        {
          "output_type": "stream",
          "name": "stdout",
          "text": [
            "1474.5826666666667 m\n"
          ]
        }
      ]
    }
  ]
}