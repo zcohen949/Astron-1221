{
  "nbformat": 4,
  "nbformat_minor": 0,
  "metadata": {
    "colab": {
      "provenance": [],
      "authorship_tag": "ABX9TyOOXSflnBsIs2Y/QYIE8k3Z",
      "include_colab_link": true
    },
    "kernelspec": {
      "name": "python3",
      "display_name": "Python 3"
    },
    "language_info": {
      "name": "python"
    }
  },
  "cells": [
    {
      "cell_type": "markdown",
      "metadata": {
        "id": "view-in-github",
        "colab_type": "text"
      },
      "source": [
        "<a href=\"https://colab.research.google.com/github/zcohen949/Astron-1221/blob/main/Exoplanet_Math.ipynb\" target=\"_parent\"><img src=\"https://colab.research.google.com/assets/colab-badge.svg\" alt=\"Open In Colab\"/></a>"
      ]
    },
    {
      "cell_type": "markdown",
      "source": [
        "Age, structure, life, mass, size, chemical composition --> life\n",
        "mass, size --> structure\n",
        "\n",
        "$δ = (\\frac{R_{planet}}{R_{star}})^2$, to solve for $R_{planet}$, $R_{planet} = \\sqrt\\delta \\times R_{star}$"
      ],
      "metadata": {
        "id": "XkJM-pFh4eL-"
      }
    },
    {
      "cell_type": "code",
      "source": [
        "import astropy.units as u # imports a Python package to call certain units\n",
        "import astropy.constants as c # imports a Python package to call the value of certain constants"
      ],
      "metadata": {
        "id": "jXE8gIMT6QKU"
      },
      "execution_count": 2,
      "outputs": []
    },
    {
      "cell_type": "code",
      "execution_count": 3,
      "metadata": {
        "id": "GySyQqlR3KTp"
      },
      "outputs": [],
      "source": [
        "delta_earth_sun = (u.earthRad / u.solRad)**2 # calculates the delta value of earth and the sun from the equation above"
      ]
    },
    {
      "cell_type": "code",
      "source": [
        "print(delta_earth_sun.decompose()) # prints the value of delta"
      ],
      "metadata": {
        "colab": {
          "base_uri": "https://localhost:8080/"
        },
        "id": "j0XIpBNE6dJf",
        "outputId": "8337689f-1149-4628-9f95-ab69f02ccfd5"
      },
      "execution_count": 4,
      "outputs": [
        {
          "output_type": "stream",
          "name": "stdout",
          "text": [
            "8.40502e-05\n"
          ]
        }
      ]
    },
    {
      "cell_type": "code",
      "source": [
        "delta_jupiter_sun = (u.jupiterRad / u.solRad)**2 # calculates the delta value of jupiter and the sun from the equation above"
      ],
      "metadata": {
        "id": "D4uMKeTm6g6W"
      },
      "execution_count": 5,
      "outputs": []
    },
    {
      "cell_type": "code",
      "source": [
        "print(delta_jupiter_sun.decompose()) # prints the value of delta"
      ],
      "metadata": {
        "colab": {
          "base_uri": "https://localhost:8080/"
        },
        "id": "79m4arAl6jqs",
        "outputId": "c279adf5-34e0-4242-81d8-cd3f917af801"
      },
      "execution_count": 6,
      "outputs": [
        {
          "output_type": "stream",
          "name": "stdout",
          "text": [
            "0.0105602\n"
          ]
        }
      ]
    },
    {
      "cell_type": "markdown",
      "source": [
        "$v_{orb} = \\sqrt\\frac{GM}{a}$"
      ],
      "metadata": {
        "id": "SvrsRGbO8kOO"
      }
    },
    {
      "cell_type": "code",
      "source": [
        "import numpy as np # imports a Python package to call certain functions\n",
        "v_orb_earth = np.sqrt(c.G * u.solMass / u.AU) # calculates the orbital velocity of earth\n",
        "print(v_orb_earth.to(u.m/u.s))"
      ],
      "metadata": {
        "colab": {
          "base_uri": "https://localhost:8080/"
        },
        "id": "wSObo4yy7xyh",
        "outputId": "f672e126-ed44-40df-8a41-50fa30eac7b2"
      },
      "execution_count": 7,
      "outputs": [
        {
          "output_type": "stream",
          "name": "stdout",
          "text": [
            "29784.691829676933 m / s\n"
          ]
        }
      ]
    },
    {
      "cell_type": "markdown",
      "source": [
        "Since $m_p \\times v_p = m_s \\times v_s$, $v_s = \\frac{m_p}{m_s} \\times v_p$"
      ],
      "metadata": {
        "id": "VpGEE-n69LCk"
      }
    },
    {
      "cell_type": "code",
      "source": [
        "v_sun = u.earthMass / u.solMass * v_orb_earth # uses the orbital velocity of earth and the equation directly above to find the radial velocity of the sun due to earth's mass\n",
        "print(v_sun.to(u.m/u.s)) # prints the value described above"
      ],
      "metadata": {
        "colab": {
          "base_uri": "https://localhost:8080/"
        },
        "id": "7wxPisfh9j4h",
        "outputId": "2e3a1132-2e32-4d46-959a-bb5c59d54649"
      },
      "execution_count": 8,
      "outputs": [
        {
          "output_type": "stream",
          "name": "stdout",
          "text": [
            "0.08945800466923791 m / s\n"
          ]
        }
      ]
    },
    {
      "cell_type": "markdown",
      "source": [
        "$v_s = 0.09 m/s (\\frac{m_p}{m_\\oplus})(\\frac{P}{1 yr})^{-1/3}$"
      ],
      "metadata": {
        "id": "7w_nKhPsBhNy"
      }
    },
    {
      "cell_type": "code",
      "source": [
        "v_s_jupiter = 0.09 * u.m / u.s * (u.jupiterMass / u.earthMass) * (11.9 * u.yr / u.yr)**(-1.0/3.0) # finds the radial velocity of the sun due to jupiter's mass by multiplying the earth's influence calculated above and the mass ratio of jupiter/earth and also the orbit time ratio\n",
        "print(v_s_jupiter.to(u.m/u.s)) # prints the value described above in m/s"
      ],
      "metadata": {
        "colab": {
          "base_uri": "https://localhost:8080/"
        },
        "id": "AB9RJhqUCCQw",
        "outputId": "4d9035a5-aeff-4207-fb46-21addd1b9b5a"
      },
      "execution_count": 12,
      "outputs": [
        {
          "output_type": "stream",
          "name": "stdout",
          "text": [
            "12.529091077198903 m / s\n"
          ]
        }
      ]
    },
    {
      "cell_type": "code",
      "source": [
        "(u.jupiterMass / u.earthMass).decompose() # finds the ratio of jupiter's mass to earth's"
      ],
      "metadata": {
        "colab": {
          "base_uri": "https://localhost:8080/",
          "height": 37
        },
        "id": "m1MV7i5ECiSc",
        "outputId": "645ecc0c-3d75-4494-e044-e41ac3e0afed"
      },
      "execution_count": 10,
      "outputs": [
        {
          "output_type": "execute_result",
          "data": {
            "text/plain": [
              "Unit(dimensionless with a scale of 317.8284065946748)"
            ],
            "text/latex": "$\\mathrm{317.82841}$"
          },
          "metadata": {},
          "execution_count": 10
        }
      ]
    },
    {
      "cell_type": "code",
      "source": [
        "rho_earth = u.earthMass / (4 * np.pi * u.earthRad**3 / 3.0) # this finds the density of earth as the earth's mass divided by it's volume\n",
        "print(rho_earth.to(u.g / u.cm**3)) # prints the value described above in g/cm^3"
      ],
      "metadata": {
        "colab": {
          "base_uri": "https://localhost:8080/"
        },
        "id": "NSzFLBcqC_oG",
        "outputId": "57525eb2-45de-4b75-d0ce-b4849ef5ea04"
      },
      "execution_count": 11,
      "outputs": [
        {
          "output_type": "stream",
          "name": "stdout",
          "text": [
            "5.495021865555213 g / cm3\n"
          ]
        }
      ]
    }
  ]
}