{
  "nbformat": 4,
  "nbformat_minor": 0,
  "metadata": {
    "colab": {
      "provenance": [],
      "authorship_tag": "ABX9TyMAosvS6sVqPqUdfiidpczi",
      "include_colab_link": true
    },
    "kernelspec": {
      "name": "python3",
      "display_name": "Python 3"
    },
    "language_info": {
      "name": "python"
    }
  },
  "cells": [
    {
      "cell_type": "markdown",
      "metadata": {
        "id": "view-in-github",
        "colab_type": "text"
      },
      "source": [
        "<a href=\"https://colab.research.google.com/github/zcohen949/Astron-1221/blob/main/Week6_AgeOfUniverse.ipynb\" target=\"_parent\"><img src=\"https://colab.research.google.com/assets/colab-badge.svg\" alt=\"Open In Colab\"/></a>"
      ]
    },
    {
      "cell_type": "code",
      "execution_count": 73,
      "metadata": {
        "id": "02XFXGEFDSwr"
      },
      "outputs": [],
      "source": [
        "import numpy as np # imports the numpy package which allows us to conduct mathematical operations for the defined quantities\n",
        "import astropy.units as u # imports a Python package to call various units\n",
        "import astropy.constants as ac # imports a Python package to call the value of constants"
      ]
    },
    {
      "cell_type": "code",
      "source": [
        "Hubble_constant = 70 * u.km / u.s / u.Mpc # Assigns a value and units to the hubble constant, and defines the variable\n",
        "print(Hubble_constant) # prints the value below with units"
      ],
      "metadata": {
        "colab": {
          "base_uri": "https://localhost:8080/"
        },
        "id": "60FVdNY6_CTK",
        "outputId": "38d80d40-dcf9-49f3-c032-e578942d7856"
      },
      "execution_count": 72,
      "outputs": [
        {
          "output_type": "stream",
          "name": "stdout",
          "text": [
            "70.0 km / (Mpc s)\n"
          ]
        }
      ]
    },
    {
      "cell_type": "code",
      "source": [
        "Hubble_constant_inverse_seconds = Hubble_constant.to(1/u.s) # changes the units to inverse seconds (1/s) by quickly converting Mpc to km and doing the division\n",
        "print(Hubble_constant_inverse_seconds) # prints the value of the Hubble constant in 1/s, which is equal to the inverse of the age of the universe in seconds"
      ],
      "metadata": {
        "colab": {
          "base_uri": "https://localhost:8080/"
        },
        "id": "ga-cIn0cDsK_",
        "outputId": "fc5065d8-4796-42ff-af6a-a710cf75e8e3"
      },
      "execution_count": 71,
      "outputs": [
        {
          "output_type": "stream",
          "name": "stdout",
          "text": [
            "2.2685455026110553e-18 1 / s\n"
          ]
        }
      ]
    },
    {
      "cell_type": "code",
      "source": [
        "Universe_age_seconds = 1 / Hubble_constant_inverse_seconds # Converts the unit from 1/s to s, which is equal to the age of the universe in seconds\n",
        "print(Universe_age_seconds) # prints this value"
      ],
      "metadata": {
        "colab": {
          "base_uri": "https://localhost:8080/"
        },
        "id": "8EosavMlBThv",
        "outputId": "924feb59-db9a-4f94-ccbf-06bfcee7dad6"
      },
      "execution_count": 70,
      "outputs": [
        {
          "output_type": "stream",
          "name": "stdout",
          "text": [
            "4.408110830701954e+17 s\n"
          ]
        }
      ]
    },
    {
      "cell_type": "code",
      "source": [
        "Universe_age_years = Universe_age_seconds.to(u.year) # converts the unit of the age of the universe to years\n",
        "print(Universe_age_years) # prints the age in years below, age=13.97 billion years"
      ],
      "metadata": {
        "colab": {
          "base_uri": "https://localhost:8080/"
        },
        "id": "kNg4HNkDGlLB",
        "outputId": "c99cda3c-fc10-4248-ffc8-8a9e61629434"
      },
      "execution_count": 76,
      "outputs": [
        {
          "output_type": "stream",
          "name": "stdout",
          "text": [
            "13968460309.725561 yr\n"
          ]
        }
      ]
    }
  ]
}